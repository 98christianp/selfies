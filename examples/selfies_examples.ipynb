{
  "nbformat": 4,
  "nbformat_minor": 0,
  "metadata": {
    "colab": {
      "name": "selfies_example.ipynb",
      "provenance": [],
      "collapsed_sections": []
    },
    "kernelspec": {
      "name": "python3",
      "display_name": "Python 3"
    }
  },
  "cells": [
    {
      "cell_type": "code",
      "metadata": {
        "id": "uTkl9w4PBc-E",
        "colab_type": "code",
        "colab": {
          "base_uri": "https://localhost:8080/",
          "height": 34
        },
        "outputId": "8b789a83-bf66-4902-d77a-76c2d1a1d8f6"
      },
      "source": [
        "!pip install selfies\n",
        "\n",
        "import selfies as sf"
      ],
      "execution_count": null,
      "outputs": [
        {
          "output_type": "stream",
          "text": [
            "Requirement already satisfied: selfies in /usr/local/lib/python3.6/dist-packages (0.2.4)\n"
          ],
          "name": "stdout"
        }
      ]
    },
    {
      "cell_type": "markdown",
      "metadata": {
        "id": "tM3wFk1e_COd",
        "colab_type": "text"
      },
      "source": [
        "# Standard Usage\n",
        "First let's try translating from SMILES to SELFIES, and then from SELFIES to SMILES. We will use a non-fullerene acceptor for organic solar cells as an example."
      ]
    },
    {
      "cell_type": "code",
      "metadata": {
        "id": "GH0DQxBN_Fei",
        "colab_type": "code",
        "colab": {
          "base_uri": "https://localhost:8080/",
          "height": 89
        },
        "outputId": "56aa043e-df48-4081-f938-49711a166d33"
      },
      "source": [
        "smiles = \"CN1C(=O)C2=C(c3cc4c(s3)-c3sc(-c5ncc(C#N)s5)cc3C43OCCO3)N(C)C(=O)\" \\\n",
        "         \"C2=C1c1cc2c(s1)-c1sc(-c3ncc(C#N)s3)cc1C21OCCO1\"\n",
        "encoded_selfies = sf.encoder(smiles)  # SMILES --> SEFLIES\n",
        "decoded_smiles = sf.decoder(encoded_selfies)  # SELFIES --> SMILES\n",
        "\n",
        "print(f\"Original SMILES: {smiles}\")\n",
        "print(f\"Translated SELFIES: {encoded_selfies}\")\n",
        "print(f\"Translated SMILES: {decoded_smiles}\")"
      ],
      "execution_count": null,
      "outputs": [
        {
          "output_type": "stream",
          "text": [
            "Original SMILES: CN1C(=O)C2=C(c3cc4c(s3)-c3sc(-c5ncc(C#N)s5)cc3C43OCCO3)N(C)C(=O)C2=C1c1cc2c(s1)-c1sc(-c3ncc(C#N)s3)cc1C21OCCO1\n",
            "Translated SELFIES: [C][N][C][Branch1_3][epsilon][=O][C][=C][Branch2_3][epsilon][S][c][c][c][c][Branch1_3][Ring2][s][Ring1][Ring2][-c][s][c][Branch1_3][O][-c][n][c][c][Branch1_3][Ring1][C][#N][s][Ring1][Branch1_2][c][c][Ring1][F][C][Ring1][=N][O][C][C][O][Ring1][Ring2][N][Branch1_3][epsilon][C][C][Branch1_3][epsilon][=O][C][Ring2][epsilon][Branch2_3][=C][Ring2][epsilon][N][c][c][c][c][Branch1_3][Ring2][s][Ring1][Ring2][-c][s][c][Branch1_3][O][-c][n][c][c][Branch1_3][Ring1][C][#N][s][Ring1][Branch1_2][c][c][Ring1][F][C][Ring1][=N][O][C][C][O][Ring1][Ring2]\n",
            "Translated SMILES: CN1C(=O)C2=C(c3cc4c(s3)-c3sc(-c5ncc(C#N)s5)cc3C43OCCO3)N(C)C(=O)C2=C1c1cc2c(s1)-c1sc(-c3ncc(C#N)s3)cc1C21OCCO1\n"
          ],
          "name": "stdout"
        }
      ]
    },
    {
      "cell_type": "markdown",
      "metadata": {
        "id": "Ng8PmMiB_RvJ",
        "colab_type": "text"
      },
      "source": [
        "When comparing the original and decoded SMILES, do not use `==` equality. Use RDKit to check whether both SMILES correspond to the same molecule."
      ]
    },
    {
      "cell_type": "code",
      "metadata": {
        "id": "iAc5FVrP_XV6",
        "colab_type": "code",
        "colab": {
          "base_uri": "https://localhost:8080/",
          "height": 34
        },
        "outputId": "b503f896-a2a0-46a6-fc5b-9c474c01ba62"
      },
      "source": [
        "print(f\"== Equals: {smiles == decoded_smiles}\")\n",
        "\n",
        "# Recomended \n",
        "# can_smiles = Chem.CanonSmiles(smiles)\n",
        "# can_decoded_smiles = Chem.CanonSmiles(decoded_smiles)\n",
        "# print(f\"RDKit Equals: {can_smiles == can_decoded_smiles}\")"
      ],
      "execution_count": null,
      "outputs": [
        {
          "output_type": "stream",
          "text": [
            "== Equals: True\n"
          ],
          "name": "stdout"
        }
      ]
    },
    {
      "cell_type": "markdown",
      "metadata": {
        "id": "IKfNr5m6_h4f",
        "colab_type": "text"
      },
      "source": [
        "# Advanced Usage\n",
        "Now let's try to customize the SELFIES constraints. We will first look at the default SELFIES semantic constraints. "
      ]
    },
    {
      "cell_type": "code",
      "metadata": {
        "id": "Xmce7wvV_t4Y",
        "colab_type": "code",
        "colab": {
          "base_uri": "https://localhost:8080/",
          "height": 200
        },
        "outputId": "8b10af2f-486e-4910-8a71-055b59a09746"
      },
      "source": [
        "default_constraints = sf.get_semantic_constraints()\n",
        "print(f\"Default Constraints:\\n {default_constraints}\")\n",
        "print()"
      ],
      "execution_count": null,
      "outputs": [
        {
          "output_type": "error",
          "ename": "AttributeError",
          "evalue": "ignored",
          "traceback": [
            "\u001b[0;31m---------------------------------------------------------------------------\u001b[0m",
            "\u001b[0;31mAttributeError\u001b[0m                            Traceback (most recent call last)",
            "\u001b[0;32m<ipython-input-4-489d1c2dfd48>\u001b[0m in \u001b[0;36m<module>\u001b[0;34m()\u001b[0m\n\u001b[0;32m----> 1\u001b[0;31m \u001b[0mdefault_constraints\u001b[0m \u001b[0;34m=\u001b[0m \u001b[0msf\u001b[0m\u001b[0;34m.\u001b[0m\u001b[0mget_semantic_constraints\u001b[0m\u001b[0;34m(\u001b[0m\u001b[0;34m)\u001b[0m\u001b[0;34m\u001b[0m\u001b[0;34m\u001b[0m\u001b[0m\n\u001b[0m\u001b[1;32m      2\u001b[0m \u001b[0mprint\u001b[0m\u001b[0;34m(\u001b[0m\u001b[0;34mf\"Default Constraints:\\n {default_constraints}\"\u001b[0m\u001b[0;34m)\u001b[0m\u001b[0;34m\u001b[0m\u001b[0;34m\u001b[0m\u001b[0m\n\u001b[1;32m      3\u001b[0m \u001b[0mprint\u001b[0m\u001b[0;34m(\u001b[0m\u001b[0;34m)\u001b[0m\u001b[0;34m\u001b[0m\u001b[0;34m\u001b[0m\u001b[0m\n",
            "\u001b[0;31mAttributeError\u001b[0m: module 'selfies' has no attribute 'get_semantic_constraints'"
          ]
        }
      ]
    },
    {
      "cell_type": "markdown",
      "metadata": {
        "id": "HJNWkTJDADui",
        "colab_type": "text"
      },
      "source": [
        "We have two compounds here, CS=CC#S and \\[Li\\]=CC in SELFIES form. Under the default SELFIES settings, they are translated like so. Note that since Li is not recognized by SELFIES, it is constrained to 8 bonds by default."
      ]
    },
    {
      "cell_type": "code",
      "metadata": {
        "id": "2rQQuBUKAKYE",
        "colab_type": "code",
        "colab": {}
      },
      "source": [
        "c_s_compound = sf.encoder(\"CS=CC#S\")\n",
        "li_compound = sf.encoder(\"[Li]=CC\")\n",
        "\n",
        "print(f\"\\t CS=CC#S --> {sf.decoder(c_s_compound)}\")\n",
        "print(f\"\\t [Li]=CC --> {sf.decoder(li_compound)}\")"
      ],
      "execution_count": null,
      "outputs": []
    },
    {
      "cell_type": "markdown",
      "metadata": {
        "id": "KevVGyIEAVlu",
        "colab_type": "text"
      },
      "source": [
        "We can add Li to the SELFIES constraints, and restrict it to 1 bond only. We can also restrict S to 2 bonds (instead of its default 6). After setting the new constraints, we can check to see if they were updated."
      ]
    },
    {
      "cell_type": "code",
      "metadata": {
        "id": "y5EbmzkKATkD",
        "colab_type": "code",
        "colab": {}
      },
      "source": [
        "new_constraints = default_constraints\n",
        "new_constraints['Li'] = 1\n",
        "new_constraints['S'] = 2\n",
        "\n",
        "sf.set_semantic_constraints(new_constraints)  # update constraints \n",
        "\n",
        "print(f\"Updated Constraints:\\n {sf.get_semantic_constraints()}\")"
      ],
      "execution_count": null,
      "outputs": []
    },
    {
      "cell_type": "markdown",
      "metadata": {
        "id": "e_djGmr_AvM7",
        "colab_type": "text"
      },
      "source": [
        "Under our new settings, our previous molecules are translated like so. Notice that our new semantic constraints are met."
      ]
    },
    {
      "cell_type": "code",
      "metadata": {
        "id": "TCzbjZMAAxpo",
        "colab_type": "code",
        "colab": {}
      },
      "source": [
        "print(f\"\\t CS=CC#S --> {sf.decoder(c_s_compound)}\")\n",
        "print(f\"\\t [Li]=CC --> {sf.decoder(li_compound)}\")"
      ],
      "execution_count": null,
      "outputs": []
    },
    {
      "cell_type": "markdown",
      "metadata": {
        "id": "Ng1Lr_e6A3cB",
        "colab_type": "text"
      },
      "source": [
        "To revert back to the default constraints, simply call: "
      ]
    },
    {
      "cell_type": "code",
      "metadata": {
        "id": "zwC00Rx5A6eQ",
        "colab_type": "code",
        "colab": {}
      },
      "source": [
        "sf.set_semantic_constraints()"
      ],
      "execution_count": null,
      "outputs": []
    }
  ]
}